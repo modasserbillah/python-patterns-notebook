{
 "cells": [
  {
   "cell_type": "markdown",
   "metadata": {},
   "source": [
    "# Abstract Factory Pattern"
   ]
  },
  {
   "cell_type": "markdown",
   "metadata": {},
   "source": [
    "## Description"
   ]
  },
  {
   "cell_type": "markdown",
   "metadata": {},
   "source": [
    "### TL;DR\n",
    "\n",
    "Provides a way to encapsulate a group of individual factories.\n",
    "\n",
    "### What is this pattern about?\n",
    "\n",
    "In Java and other languages, the Abstract Factory Pattern serves to provide an interface for\n",
    "creating related/dependent objects without the need to specify their actual class.\n",
    "\n",
    "The idea is to abstract the creation of objects depending on business\n",
    "logic, platform choice, etc.\n",
    "\n",
    "In Python, the interface we use is simply a callable. It is a `builtin` interface\n",
    "in Python. In normal circumstances we can simply use the class itself as that\n",
    "callable, because classes are first class objects in Python.\n",
    "\n",
    "### What does this example do?\n",
    "\n",
    "This particular implementation abstracts the creation of a pet and\n",
    "does so depending on the factory we chose (Dog or Cat, or random_animal).\n",
    "\n",
    "This works because both Dog/Cat and random_animal respect a common\n",
    "interface (`callable` for creation and `.speak()`).\n",
    "\n",
    "Now this application can create pets abstractly and decide later,\n",
    "based on its own criteria, dogs over cats.\n",
    "\n",
    "\n",
    "### References:\n",
    "\n",
    "- https://sourcemaking.com/design_patterns/abstract_factory\n",
    "- http://ginstrom.com/scribbles/2007/10/08/design-patterns-python-style/\n"
   ]
  },
  {
   "cell_type": "markdown",
   "metadata": {},
   "source": [
    "## Code"
   ]
  },
  {
   "cell_type": "code",
   "execution_count": 28,
   "metadata": {},
   "outputs": [],
   "source": [
    "class PetShop:\n",
    "    \"\"\"A pet shop\"\"\"\n",
    "    \n",
    "    def __init__(self, animal_factory=None):\n",
    "        \"\"\"pet_factory is our abstract factory.  We can set it at will.\"\"\"\n",
    "        \n",
    "        self.pet_factory = animal_factory\n",
    "        \n",
    "    def show_pet(self):\n",
    "        \"\"\"Creates and shows a pet using the abstract factory\"\"\"\n",
    "        \n",
    "        pet = self.pet_factory()\n",
    "        print(f\"We have a lovely {pet}\")\n",
    "        print(f\"It says {pet.speak()}\")\n",
    "        \n",
    "\n",
    "class Animal:\n",
    "    \"\"\"Base animal interface to lay down basic behaviors\"\"\"\n",
    "    \n",
    "    def speak(self):\n",
    "        raise NotImplementedError\n",
    "    \n",
    "    def __str__(self):\n",
    "         return self.__class__.__name__\n",
    "\n",
    "        \n",
    "class Dog(Animal):\n",
    "    def speak(self):\n",
    "        return \"Woof!\"\n",
    "    \n",
    "    \n",
    "class Cat(Animal):\n",
    "    def speak(self):\n",
    "        return \"Meow!\"\n",
    "    \n",
    "\n",
    "# Additional factories:\n",
    "\n",
    "# Create a random animal\n",
    "def random_animal():\n",
    "    \"\"\"Let's be dynamic!\"\"\"\n",
    "    import random\n",
    "    return random.choice([Dog, Cat])()"
   ]
  },
  {
   "cell_type": "markdown",
   "metadata": {},
   "source": [
    "**A Shop that sells only cats**"
   ]
  },
  {
   "cell_type": "code",
   "execution_count": 31,
   "metadata": {},
   "outputs": [
    {
     "name": "stdout",
     "output_type": "stream",
     "text": [
      "We have a lovely Cat\n",
      "It says Meow!\n"
     ]
    }
   ],
   "source": [
    "cat_shop = PetShop(Cat)\n",
    "cat_shop.show_pet()"
   ]
  },
  {
   "cell_type": "markdown",
   "metadata": {},
   "source": [
    "**A shop that sells random animals**"
   ]
  },
  {
   "cell_type": "code",
   "execution_count": 30,
   "metadata": {},
   "outputs": [
    {
     "name": "stdout",
     "output_type": "stream",
     "text": [
      "We have a lovely Cat\n",
      "It says Meow!\n",
      "====================\n",
      "We have a lovely Cat\n",
      "It says Meow!\n",
      "====================\n",
      "We have a lovely Dog\n",
      "It says Woof!\n",
      "====================\n"
     ]
    }
   ],
   "source": [
    "shop = PetShop(random_animal)\n",
    "for i in range(3):\n",
    "    shop.show_pet()\n",
    "    print(\"=\" * 20)"
   ]
  },
  {
   "cell_type": "markdown",
   "metadata": {},
   "source": [
    "## Illustration"
   ]
  },
  {
   "cell_type": "markdown",
   "metadata": {},
   "source": [
    "![Abstract Factory Pattern](abstract-factory.png)"
   ]
  }
 ],
 "metadata": {
  "kernelspec": {
   "display_name": "Python 3",
   "language": "python",
   "name": "python3"
  },
  "language_info": {
   "codemirror_mode": {
    "name": "ipython",
    "version": 3
   },
   "file_extension": ".py",
   "mimetype": "text/x-python",
   "name": "python",
   "nbconvert_exporter": "python",
   "pygments_lexer": "ipython3",
   "version": "3.8.0"
  }
 },
 "nbformat": 4,
 "nbformat_minor": 4
}
