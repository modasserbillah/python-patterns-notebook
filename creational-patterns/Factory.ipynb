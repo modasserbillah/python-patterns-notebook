{
 "cells": [
  {
   "cell_type": "markdown",
   "metadata": {},
   "source": [
    "# Factory Pattern"
   ]
  },
  {
   "cell_type": "markdown",
   "metadata": {},
   "source": [
    "## Description"
   ]
  },
  {
   "cell_type": "markdown",
   "metadata": {},
   "source": [
    "### TL;DR\n",
    "\n",
    "Creates objects without having to specify the exact class.\n",
    "\n",
    "### What is this pattern about?\n",
    "\n",
    "A Factory is an object for creating other objects.\n",
    "\n",
    "### What does this example do?\n",
    "\n",
    "The code shows a way to localize words in two languages: English and\n",
    "Greek. `get_localizer` is the factory function that constructs a\n",
    "localizer depending on the language chosen. The localizer object will\n",
    "be an instance from a different class according to the language\n",
    "localized. However, the main code does not have to worry about which\n",
    "localizer will be instantiated, since the method `localize` will be called\n",
    "in the same way independently of the language.\n",
    "\n",
    "### Where can the pattern be used practically?\n",
    "\n",
    "The Factory Method can be seen in the popular web framework Django:\n",
    "http://django.wikispaces.asu.edu/*NEW*+Django+Design+Patterns \n",
    "\n",
    "For example, in a contact form of a web page, the subject and the message\n",
    "fields are created using the same form factory (CharField()), even\n",
    "though they have different implementations according to their\n",
    "purposes.\n",
    "\n",
    "### References:\n",
    "\n",
    "- http://ginstrom.com/scribbles/2007/10/08/design-patterns-python-style/\n",
    "- https://realpython.com/factory-method-python/"
   ]
  },
  {
   "cell_type": "markdown",
   "metadata": {},
   "source": [
    "## Code"
   ]
  },
  {
   "cell_type": "code",
   "execution_count": 10,
   "metadata": {},
   "outputs": [],
   "source": [
    "class GreekLocalizer:\n",
    "    \"\"\"A simple localizer a la gettext\"\"\"\n",
    "\n",
    "    def __init__(self) -> None:\n",
    "        self.translations = {\"dog\": \"σκύλος\", \"cat\": \"γάτα\"}\n",
    "\n",
    "    def localize(self, msg: str) -> str:\n",
    "        \"\"\"We'll punt if we don't have a translation\"\"\"\n",
    "        return self.translations.get(msg, msg)\n",
    "\n",
    "\n",
    "class EnglishLocalizer:\n",
    "    \"\"\"Simply echoes the message\"\"\"\n",
    "\n",
    "    def localize(self, msg: str) -> str:\n",
    "        return msg\n",
    "\n",
    "\n",
    "def get_localizer(language: str = \"English\") -> object:\n",
    "\n",
    "    \"\"\"Factory\"\"\"\n",
    "    localizers = {\n",
    "        \"English\": EnglishLocalizer,\n",
    "        \"Greek\": GreekLocalizer,\n",
    "    }\n",
    "    # Default to EnglishLocalizer if input language is not available.\n",
    "    return localizers.get(language, EnglishLocalizer)()"
   ]
  },
  {
   "cell_type": "code",
   "execution_count": 11,
   "metadata": {},
   "outputs": [
    {
     "name": "stdout",
     "output_type": "stream",
     "text": [
      "dog σκύλος\n",
      "parrot parrot\n",
      "cat γάτα\n",
      "bear bear\n"
     ]
    }
   ],
   "source": [
    "# Create our localizers\n",
    "e, g = get_localizer(language=\"English\"), get_localizer(language=\"Greek\")\n",
    "# Localize some text\n",
    "for msg in \"dog parrot cat bear\".split():\n",
    "    print(e.localize(msg), g.localize(msg))"
   ]
  },
  {
   "cell_type": "markdown",
   "metadata": {},
   "source": [
    "## Illustration"
   ]
  },
  {
   "cell_type": "markdown",
   "metadata": {},
   "source": [
    "![Factory Pattern](https://raw.githubusercontent.com/faif/python-patterns/master/patterns/creational/viz/factory_method.py.png)"
   ]
  }
 ],
 "metadata": {
  "kernelspec": {
   "display_name": "Python 3",
   "language": "python",
   "name": "python3"
  },
  "language_info": {
   "codemirror_mode": {
    "name": "ipython",
    "version": 3
   },
   "file_extension": ".py",
   "mimetype": "text/x-python",
   "name": "python",
   "nbconvert_exporter": "python",
   "pygments_lexer": "ipython3",
   "version": "3.8.0"
  }
 },
 "nbformat": 4,
 "nbformat_minor": 4
}
