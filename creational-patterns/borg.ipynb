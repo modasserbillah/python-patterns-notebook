{
 "cells": [
  {
   "cell_type": "markdown",
   "metadata": {},
   "source": [
    "# Borg"
   ]
  },
  {
   "cell_type": "markdown",
   "metadata": {},
   "source": [
    "## Description"
   ]
  },
  {
   "cell_type": "markdown",
   "metadata": {},
   "source": [
    "### What is this pattern about?\n",
    "\n",
    "The Borg pattern (also known as the Monostate pattern) is a way to\n",
    "implement singleton behavior, but instead of having only one instance\n",
    "of a class, there are multiple instances that share the same state. In\n",
    "other words, the focus is on sharing state instead of sharing instance\n",
    "identity.\n",
    "\n",
    "### What does this example do?\n",
    "\n",
    "To understand the implementation of this pattern in Python, it is\n",
    "important to know that, in Python, instance attributes are stored in a\n",
    "attribute dictionary called __dict__. Usually, each instance will have\n",
    "its own dictionary, but the Borg pattern modifies this so that all\n",
    "instances have the same dictionary.\n",
    "In this example, the __shared_state attribute will be the dictionary\n",
    "shared between all instances, and this is ensured by assigining\n",
    "__shared_state to the __dict__ variable when initializing a new\n",
    "instance (i.e., in the __init__ method). Other attributes are usually\n",
    "added to the instance's attribute dictionary, but, since the attribute\n",
    "dictionary itself is shared (which is __shared_state), all other\n",
    "attributes will also be shared.\n",
    "\n",
    "### Where is the pattern used practically?\n",
    "\n",
    "Sharing state is useful in applications like managing database connections:\n",
    "https://github.com/onetwopunch/pythonDbTemplate/blob/master/database.py\n",
    "\n",
    "### References:\n",
    "\n",
    "https://fkromer.github.io/python-pattern-references/design/#singleton\n",
    "\n",
    "### TL;DR\n",
    "\n",
    "Provides singleton-like behavior sharing state between instances."
   ]
  },
  {
   "cell_type": "markdown",
   "metadata": {},
   "source": [
    "## Code"
   ]
  },
  {
   "cell_type": "code",
   "execution_count": 1,
   "metadata": {},
   "outputs": [],
   "source": [
    "class Borg:\n",
    "    __shared_state = {}\n",
    "\n",
    "    def __init__(self):\n",
    "        self.__dict__ = self.__shared_state\n",
    "        self.state = 'Init'\n",
    "    \n",
    "    def __str__(self):\n",
    "        return self.state"
   ]
  },
  {
   "cell_type": "code",
   "execution_count": 2,
   "metadata": {},
   "outputs": [],
   "source": [
    "class SubBorg(Borg):\n",
    "    pass"
   ]
  },
  {
   "cell_type": "code",
   "execution_count": 3,
   "metadata": {},
   "outputs": [],
   "source": [
    "first = Borg()\n",
    "second = Borg()"
   ]
  },
  {
   "cell_type": "code",
   "execution_count": 4,
   "metadata": {},
   "outputs": [
    {
     "name": "stdout",
     "output_type": "stream",
     "text": [
      "first: Init\n",
      "second: Init\n"
     ]
    }
   ],
   "source": [
    "print(f'first: {first}')\n",
    "print(f'second: {second}')"
   ]
  },
  {
   "cell_type": "markdown",
   "metadata": {},
   "source": [
    "**When the `state` attribute is modified from instance `first`, the value of `state` in instance `second` also changes**"
   ]
  },
  {
   "cell_type": "code",
   "execution_count": 5,
   "metadata": {},
   "outputs": [],
   "source": [
    "first.state = 'Running'"
   ]
  },
  {
   "cell_type": "code",
   "execution_count": 6,
   "metadata": {},
   "outputs": [
    {
     "name": "stdout",
     "output_type": "stream",
     "text": [
      "first: Running\n",
      "second: Running\n"
     ]
    }
   ],
   "source": [
    "print(f'first: {first}')\n",
    "print(f'second: {second}')"
   ]
  },
  {
   "cell_type": "markdown",
   "metadata": {},
   "source": [
    "**Even though `first` and `second` share attributes, the instances are not the same**"
   ]
  },
  {
   "cell_type": "code",
   "execution_count": 7,
   "metadata": {},
   "outputs": [
    {
     "data": {
      "text/plain": [
       "False"
      ]
     },
     "execution_count": 7,
     "metadata": {},
     "output_type": "execute_result"
    }
   ],
   "source": [
    "first is second"
   ]
  },
  {
   "cell_type": "markdown",
   "metadata": {},
   "source": [
    "**Shared state is also modified from a subclass instance `third`**"
   ]
  },
  {
   "cell_type": "code",
   "execution_count": 8,
   "metadata": {},
   "outputs": [],
   "source": [
    "third = SubBorg()"
   ]
  },
  {
   "cell_type": "code",
   "execution_count": 9,
   "metadata": {},
   "outputs": [
    {
     "name": "stdout",
     "output_type": "stream",
     "text": [
      "first: Init\n",
      "second: Init\n",
      "third: Init\n"
     ]
    }
   ],
   "source": [
    "print(f'first: {first}')\n",
    "print(f'second: {second}')\n",
    "print(f'third: {third}')"
   ]
  },
  {
   "cell_type": "markdown",
   "metadata": {},
   "source": [
    "## Illustration"
   ]
  },
  {
   "cell_type": "markdown",
   "metadata": {},
   "source": [
    "![borg](https://raw.githubusercontent.com/faif/python-patterns/master/patterns/creational/viz/borg.py.png)"
   ]
  },
  {
   "cell_type": "code",
   "execution_count": null,
   "metadata": {},
   "outputs": [],
   "source": []
  }
 ],
 "metadata": {
  "kernelspec": {
   "display_name": "Python 3",
   "language": "python",
   "name": "python3"
  },
  "language_info": {
   "codemirror_mode": {
    "name": "ipython",
    "version": 3
   },
   "file_extension": ".py",
   "mimetype": "text/x-python",
   "name": "python",
   "nbconvert_exporter": "python",
   "pygments_lexer": "ipython3",
   "version": "3.8.0"
  }
 },
 "nbformat": 4,
 "nbformat_minor": 4
}
